{
 "cells": [
  {
   "cell_type": "code",
   "execution_count": null,
   "metadata": {},
   "outputs": [],
   "source": [
    "import pandas as pd\n",
    "import requests"
   ]
  },
  {
   "cell_type": "markdown",
   "metadata": {},
   "source": [
    "Api for Location: \"OpenCage\"    \n",
    "Api for Weather: \"Open Weather Map\""
   ]
  },
  {
   "cell_type": "code",
   "execution_count": null,
   "metadata": {},
   "outputs": [],
   "source": [
    "api_for_location='fc1b831bceae49eabdf0530c7c6a7d28'\n",
    "api_for_weather='7336ca749d83a44084521c15c0148443'"
   ]
  },
  {
   "cell_type": "markdown",
   "metadata": {},
   "source": [
    "Input Your City"
   ]
  },
  {
   "cell_type": "code",
   "execution_count": null,
   "metadata": {},
   "outputs": [],
   "source": [
    "city=input(\"Enter Your City: \")\n",
    "city"
   ]
  },
  {
   "cell_type": "markdown",
   "metadata": {},
   "source": [
    "Requesting Location"
   ]
  },
  {
   "cell_type": "code",
   "execution_count": null,
   "metadata": {},
   "outputs": [],
   "source": [
    "location=requests.get(f\"https://api.opencagedata.com/geocode/v1/json?q={city}&key=fc1b831bceae49eabdf0530c7c6a7d28\")"
   ]
  },
  {
   "cell_type": "code",
   "execution_count": null,
   "metadata": {},
   "outputs": [],
   "source": [
    "data=location.json()"
   ]
  },
  {
   "cell_type": "markdown",
   "metadata": {},
   "source": [
    "Extracting Latitude and Longitude"
   ]
  },
  {
   "cell_type": "code",
   "execution_count": null,
   "metadata": {},
   "outputs": [],
   "source": [
    "if data['results']:\n",
    "    latitude = data['results'][0]['geometry']['lat']\n",
    "    longitude = data['results'][0]['geometry']['lng']\n",
    "    print(f'Latitude: {latitude}, Longitude: {longitude}')\n",
    "else:\n",
    "    print('No results found.')"
   ]
  },
  {
   "cell_type": "code",
   "execution_count": null,
   "metadata": {},
   "outputs": [],
   "source": [
    "weather = requests.get(f'https://api.openweathermap.org/data/2.5/weather?lat={latitude}&lon={longitude}&appid={api_for_weather}')"
   ]
  },
  {
   "cell_type": "code",
   "execution_count": null,
   "metadata": {},
   "outputs": [],
   "source": [
    "data=weather.json()"
   ]
  },
  {
   "cell_type": "code",
   "execution_count": null,
   "metadata": {},
   "outputs": [],
   "source": [
    "#converting Temperature to Degree Celcius\n",
    "if 'main' in data and 'temp' in data['main']:\n",
    "    data['main']['temp'] = float(data['main']['temp'])-273"
   ]
  },
  {
   "cell_type": "code",
   "execution_count": null,
   "metadata": {},
   "outputs": [],
   "source": [
    "#generating a dataframe\n",
    "weather_data = {\n",
    "    'Latitude': data['coord']['lat'],\n",
    "    'Longitude': data['coord']['lon'],\n",
    "    'Weather_main': data['weather'][0]['main'],\n",
    "    'Weather_description': data['weather'][0]['description'],\n",
    "    'Temperature': data['main']['temp'],\n",
    "    'Pressure': data['main']['pressure'],\n",
    "    'Humidity': data['main']['humidity'],\n",
    "    'Wind_speed': data['wind']['speed'],\n",
    "    'Wind_deg': data['wind']['deg'],\n",
    "    'City': data['name'],\n",
    "    'Country': data['sys']['country']\n",
    "}"
   ]
  },
  {
   "cell_type": "code",
   "execution_count": null,
   "metadata": {},
   "outputs": [],
   "source": [
    "df = pd.DataFrame([weather_data])\n",
    "print(df.to_string(index=False))"
   ]
  }
 ],
 "metadata": {
  "kernelspec": {
   "display_name": "Python 3",
   "language": "python",
   "name": "python3"
  },
  "language_info": {
   "codemirror_mode": {
    "name": "ipython",
    "version": 3
   },
   "file_extension": ".py",
   "mimetype": "text/x-python",
   "name": "python",
   "nbconvert_exporter": "python",
   "pygments_lexer": "ipython3",
   "version": "3.12.2"
  }
 },
 "nbformat": 4,
 "nbformat_minor": 2
}
